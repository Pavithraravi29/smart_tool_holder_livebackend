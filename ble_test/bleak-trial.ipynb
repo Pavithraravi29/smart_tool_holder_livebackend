{
 "cells": [
  {
   "cell_type": "code",
   "execution_count": 3,
   "metadata": {},
   "outputs": [
    {
     "name": "stdout",
     "output_type": "stream",
     "text": [
      "20:BF:CC:17:18:9B: None\n",
      "1A:4A:40:10:64:11: None\n",
      "02:B6:45:0B:36:04: None\n",
      "FD:02:9A:E0:EA:AB: None\n",
      "78:F6:89:C5:27:2E: None\n"
     ]
    }
   ],
   "source": [
    "import asyncio\n",
    "import nest_asyncio\n",
    "from bleak import BleakScanner\n",
    "\n",
    "nest_asyncio.apply()\n",
    "\n",
    "async def main():\n",
    "    async with BleakScanner() as scanner:\n",
    "        devices = await scanner.discover()\n",
    "        for d in devices:\n",
    "            print(d)\n",
    "\n",
    "if __name__ == '__main__':\n",
    "    asyncio.run(main())"
   ]
  },
  {
   "cell_type": "code",
   "execution_count": null,
   "metadata": {},
   "outputs": [],
   "source": [
    "import asyncio\n",
    "import nest_asyncio\n",
    "from bleak import BleakClient\n",
    "\n",
    "nest_asyncio.apply()\n",
    "\n",
    "async def main(address):\n",
    "    async with BleakClient(address, timeout=30) as client:\n",
    "        if(not client.is_connected):\n",
    "            raise 'Client not connected'\n",
    "        \n",
    "        for service in client.services:\n",
    "            print('\\nServices', service.handle, service.uuid, service.description)\n",
    "\n",
    "            characteristcs = service.characteristics\n",
    "\n",
    "            for char in characteristcs:\n",
    "                print(' Characteristic', char.handle, char.uuid, char.description, char.properties)\n",
    "\n",
    "                descriptors = char.descriptors\n",
    "\n",
    "                for desc in descriptors:\n",
    "                    print('   Descriptor', desc)\n",
    "\n",
    "if __name__ == '__main__':\n",
    "    address = 'C4:8C:B3:08:58:A3'\n",
    "    asyncio.run(main(address), debug=True)"
   ]
  },
  {
   "cell_type": "code",
   "execution_count": null,
   "metadata": {},
   "outputs": [],
   "source": [
    "import asyncio\n",
    "import nest_asyncio\n",
    "from bleak import BleakClient\n",
    "\n",
    "nest_asyncio.apply()\n",
    "\n",
    "async def notification_handler(sender: int, data: bytearray):\n",
    "    decoded_data = data.decode('utf-8')\n",
    "    print(f\"Measured value: {decoded_data}\")\n",
    "\n",
    "async def monitor_data(address):\n",
    "    async with BleakClient(address) as client:\n",
    "        characteristic_uuid = \"6e400003-b5a3-f393-e0a9-e50e24dcca9e\"\n",
    "        await client.start_notify(characteristic_uuid, notification_handler)\n",
    "\n",
    "        try:\n",
    "            while True:\n",
    "                # The loop will be triggered when a notification is received\n",
    "                await asyncio.sleep(1)  # Adjust the sleep interval as needed\n",
    "\n",
    "        except Exception as e:\n",
    "            print(f\"Error monitoring data: {e}\")\n",
    "\n",
    "if __name__ == \"__main__\":\n",
    "    device_address = \"C4:8C:B3:08:58:A3\"\n",
    "    \n",
    "    # Run the event loop\n",
    "    loop = asyncio.get_event_loop()\n",
    "    loop.run_until_complete(monitor_data(device_address))"
   ]
  },
  {
   "cell_type": "code",
   "execution_count": null,
   "metadata": {},
   "outputs": [],
   "source": []
  }
 ],
 "metadata": {
  "kernelspec": {
   "display_name": "Python 3",
   "language": "python",
   "name": "python3"
  },
  "language_info": {
   "codemirror_mode": {
    "name": "ipython",
    "version": 3
   },
   "file_extension": ".py",
   "mimetype": "text/x-python",
   "name": "python",
   "nbconvert_exporter": "python",
   "pygments_lexer": "ipython3",
   "version": "3.11.4"
  }
 },
 "nbformat": 4,
 "nbformat_minor": 2
}
